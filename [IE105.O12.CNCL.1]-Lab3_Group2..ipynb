{
  "nbformat": 4,
  "nbformat_minor": 0,
  "metadata": {
    "colab": {
      "provenance": []
    },
    "kernelspec": {
      "name": "python3",
      "display_name": "Python 3"
    },
    "language_info": {
      "name": "python"
    }
  },
  "cells": [
    {
      "cell_type": "markdown",
      "source": [
        "<center><h1>Lab03: Classical Cryptography"
      ],
      "metadata": {
        "id": "Rxlm-R78Se--"
      }
    },
    {
      "cell_type": "markdown",
      "source": [
        "### Task 2"
      ],
      "metadata": {
        "id": "TRpbi8jES_AG"
      }
    },
    {
      "cell_type": "code",
      "source": [
        "# encryption in caesar cipher\n",
        "def encrypt(text, secret_key):\n",
        "    result =''\n",
        "    for char in text:\n",
        "      if char.isalpha():\n",
        "        ascii_offset = 65 if char.isupper() else 97\n",
        "        # Xác định giá trị offset ASCII tương ứng với chữ cái là chữ hoa\n",
        "        encrypted_char = chr((ord(char) + secret_key - ascii_offset) % 26 + ascii_offset)\n",
        "        # ord(char) ascii_offset: chuyển đổi ký tự thành một số nguyên\n",
        "        # (... + secret_key) % 26: công thức mã hóa\n",
        "        # (... + secret_key) % 26 + ascii_offset: trà về giá trị chuỗi tương ứng\n",
        "        result += encrypted_char\n",
        "      else:\n",
        "       result += char\n",
        "    return result\n",
        "# input\n",
        "text = input(\"Nhập vào chuỗi cần mã hóa: \")\n",
        "secret_key = int(input(\"Nhập vào khóa: \"))\n",
        "# Output\n",
        "encrypted_text = encrypt(text, secret_key)\n",
        "print(\"Ciphertext: \", encrypted_text)"
      ],
      "metadata": {
        "colab": {
          "base_uri": "https://localhost:8080/"
        },
        "id": "ZT1f2o3d9Goi",
        "outputId": "956726e6-a79a-45c8-f790-87bb91b90dad"
      },
      "execution_count": 4,
      "outputs": [
        {
          "output_type": "stream",
          "name": "stdout",
          "text": [
            "Nhập vào chuỗi cần mã hóa: university\n",
            "Nhập vào khóa: 3\n",
            "Ciphertext:  xqlyhuvlwb\n"
          ]
        }
      ]
    },
    {
      "cell_type": "code",
      "source": [
        "def decrypt(ciphertext, secret_key):\n",
        "    result = \"\"\n",
        "    for char in ciphertext:\n",
        "        if char.isalpha():\n",
        "            shifted_char = chr((ord(char.lower()) - ord('a') - secret_key) % 26 + ord('a'))\n",
        "            if char.isupper():\n",
        "                result += shifted_char.upper()\n",
        "            else:\n",
        "                result += shifted_char\n",
        "        else:\n",
        "            result += char\n",
        "    return result\n",
        "\n",
        "# Mfwzpn Rzwfpfrn bfx gtws ns Pdtyt ns 1949 fsi stb qnajx sjfw Ytpdt. Mj nx ymj fzymtw tk rfsc\n",
        "\n",
        "# Input\n",
        "ciphertext = input(\"Nhập vào chuỗi cần giải mã: \")\n",
        "secret_key = int(input(\"Nhập vào khóa: \"))\n",
        "\n",
        "# Output\n",
        "decrypted_text = decrypt(ciphertext, secret_key)\n",
        "print(\"Plaintext: \", decrypted_text)\n"
      ],
      "metadata": {
        "colab": {
          "base_uri": "https://localhost:8080/"
        },
        "id": "I4hJwYQQ9iJ-",
        "outputId": "3fbeb0ac-610c-40a8-b549-00e9445e0bc0"
      },
      "execution_count": 5,
      "outputs": [
        {
          "output_type": "stream",
          "name": "stdout",
          "text": [
            "Nhập vào chuỗi cần giải mã: Mfwzpn Rzwfpfrn bfx gtws ns Pdtyt ns 1949 fsi stb qnajx sjfw Ytpdt. Mj nx ymj fzymtw tk rfsd stajqx fx bjqq fx xmtwy xytwnjx fsi sts-knhynts. Mnx btwpx nshqzij Stwbjlnfs Btti, Ymj Bnsi-Zu Gnwi Hmwtsnhqj, Pfkpf ts ymj Xmtwj, Fkyjw Ifwp fsi Bmfy N Yfqp Fgtzy Bmjs N Yfqp Fgtzy Wzssnsl. Mnx btwp mfx gjjs ywfsxqfyji nsyt rtwj ymfs ktwyd qfslzfljx, fsi ymj rtxy wjhjsy tk mnx rfsd nsyjwsfyntsfq mtstzwx nx ymj Ojwzxfqjr Uwnej, bmtxj uwjantzx wjhnunjsyx nshqzij O.R. Htjyejj, Rnqfs Pzsijwf, fsi A.X. Sfnufzq\n",
            "Nhập vào khóa: 3\n",
            "Plaintext:  Jctwmk Owtcmcok ycu dqtp kp Maqvq kp 1949 cpf pqy nkxgu pgct Vqmaq. Jg ku vjg cwvjqt qh ocpa pqxgnu cu ygnn cu ujqtv uvqtkgu cpf pqp-hkevkqp. Jku yqtmu kpenwfg Pqtygikcp Yqqf, Vjg Ykpf-Wr Dktf Ejtqpkeng, Mchmc qp vjg Ujqtg, Chvgt Fctm cpf Yjcv K Vcnm Cdqwv Yjgp K Vcnm Cdqwv Twppkpi. Jku yqtm jcu dggp vtcpuncvgf kpvq oqtg vjcp hqtva ncpiwcigu, cpf vjg oquv tgegpv qh jku ocpa kpvgtpcvkqpcn jqpqwtu ku vjg Lgtwucngo Rtkbg, yjqug rtgxkqwu tgekrkgpvu kpenwfg L.O. Eqgvbgg, Okncp Mwpfgtc, cpf X.U. Pckrcwn\n"
          ]
        }
      ]
    },
    {
      "cell_type": "markdown",
      "source": [
        "##Task4"
      ],
      "metadata": {
        "id": "705v9EFZTRh4"
      }
    },
    {
      "cell_type": "code",
      "source": [
        "# Python program to implement Playfair Cipher\n",
        "\n",
        "# Function to convert the string to lowercase\n",
        "\n",
        "\n",
        "def toLowerCase(text):\n",
        "\treturn text.lower()\n",
        "\n",
        "# Function to remove all spaces in a string\n",
        "\n",
        "\n",
        "def removeSpaces(text):\n",
        "\tnewText = \"\"\n",
        "\tfor i in text:\n",
        "\t\tif i == \" \":\n",
        "\t\t\tcontinue\n",
        "\t\telse:\n",
        "\t\t\tnewText = newText + i\n",
        "\treturn newText\n",
        "\n",
        "# Function to group 2 elements of a string\n",
        "# as a list element\n",
        "\n",
        "\n",
        "def Diagraph(text):\n",
        "\tDiagraph = []\n",
        "\tgroup = 0\n",
        "\tfor i in range(2, len(text), 2):\n",
        "\t\tDiagraph.append(text[group:i])\n",
        "\n",
        "\t\tgroup = i\n",
        "\tDiagraph.append(text[group:])\n",
        "\treturn Diagraph\n",
        "\n",
        "# Function to fill a letter in a string element\n",
        "# If 2 letters in the same string matches\n",
        "\n",
        "\n",
        "def FillerLetter(text):\n",
        "\tk = len(text)\n",
        "\tif k % 2 == 0:\n",
        "\t\tfor i in range(0, k, 2):\n",
        "\t\t\tif text[i] == text[i+1]:\n",
        "\t\t\t\tnew_word = text[0:i+1] + str('x') + text[i+1:]\n",
        "\t\t\t\tnew_word = FillerLetter(new_word)\n",
        "\t\t\t\tbreak\n",
        "\t\t\telse:\n",
        "\t\t\t\tnew_word = text\n",
        "\telse:\n",
        "\t\tfor i in range(0, k-1, 2):\n",
        "\t\t\tif text[i] == text[i+1]:\n",
        "\t\t\t\tnew_word = text[0:i+1] + str('x') + text[i+1:]\n",
        "\t\t\t\tnew_word = FillerLetter(new_word)\n",
        "\t\t\t\tbreak\n",
        "\t\t\telse:\n",
        "\t\t\t\tnew_word = text\n",
        "\treturn new_word\n",
        "\n",
        "\n",
        "list1 = ['a', 'b', 'c', 'd', 'e', 'f', 'g', 'h', 'i', 'k', 'l', 'm',\n",
        "\t\t'n', 'o', 'p', 'q', 'r', 's', 't', 'u', 'v', 'w', 'x', 'y', 'z']\n",
        "\n",
        "# Function to generate the 5x5 key square matrix\n",
        "\n",
        "\n",
        "def generateKeyTable(word, list1):\n",
        "\tkey_letters = []\n",
        "\tfor i in word:\n",
        "\t\tif i not in key_letters:\n",
        "\t\t\tkey_letters.append(i)\n",
        "\n",
        "\tcompElements = []\n",
        "\tfor i in key_letters:\n",
        "\t\tif i not in compElements:\n",
        "\t\t\tcompElements.append(i)\n",
        "\tfor i in list1:\n",
        "\t\tif i not in compElements:\n",
        "\t\t\tcompElements.append(i)\n",
        "\n",
        "\tmatrix = []\n",
        "\twhile compElements != []:\n",
        "\t\tmatrix.append(compElements[:5])\n",
        "\t\tcompElements = compElements[5:]\n",
        "\n",
        "\treturn matrix\n",
        "\n",
        "\n",
        "def search(mat, element):\n",
        "\tfor i in range(5):\n",
        "\t\tfor j in range(5):\n",
        "\t\t\tif(mat[i][j] == element):\n",
        "\t\t\t\treturn i, j\n",
        "\n",
        "\n",
        "def encrypt_RowRule(matr, e1r, e1c, e2r, e2c):\n",
        "\tchar1 = ''\n",
        "\tif e1c == 4:\n",
        "\t\tchar1 = matr[e1r][0]\n",
        "\telse:\n",
        "\t\tchar1 = matr[e1r][e1c+1]\n",
        "\n",
        "\tchar2 = ''\n",
        "\tif e2c == 4:\n",
        "\t\tchar2 = matr[e2r][0]\n",
        "\telse:\n",
        "\t\tchar2 = matr[e2r][e2c+1]\n",
        "\n",
        "\treturn char1, char2\n",
        "\n",
        "\n",
        "def encrypt_ColumnRule(matr, e1r, e1c, e2r, e2c):\n",
        "\tchar1 = ''\n",
        "\tif e1r == 4:\n",
        "\t\tchar1 = matr[0][e1c]\n",
        "\telse:\n",
        "\t\tchar1 = matr[e1r+1][e1c]\n",
        "\n",
        "\tchar2 = ''\n",
        "\tif e2r == 4:\n",
        "\t\tchar2 = matr[0][e2c]\n",
        "\telse:\n",
        "\t\tchar2 = matr[e2r+1][e2c]\n",
        "\n",
        "\treturn char1, char2\n",
        "\n",
        "\n",
        "def encrypt_RectangleRule(matr, e1r, e1c, e2r, e2c):\n",
        "\tchar1 = ''\n",
        "\tchar1 = matr[e1r][e2c]\n",
        "\n",
        "\tchar2 = ''\n",
        "\tchar2 = matr[e2r][e1c]\n",
        "\n",
        "\treturn char1, char2\n",
        "\n",
        "\n",
        "def encryptByPlayfairCipher(Matrix, plainList):\n",
        "\tCipherText = []\n",
        "\tfor i in range(0, len(plainList)):\n",
        "\t\tc1 = 0\n",
        "\t\tc2 = 0\n",
        "\t\tele1_x, ele1_y = search(Matrix, plainList[i][0])\n",
        "\t\tele2_x, ele2_y = search(Matrix, plainList[i][1])\n",
        "\n",
        "\t\tif ele1_x == ele2_x:\n",
        "\t\t\tc1, c2 = encrypt_RowRule(Matrix, ele1_x, ele1_y, ele2_x, ele2_y)\n",
        "\t\t\t# Get 2 letter cipherText\n",
        "\t\telif ele1_y == ele2_y:\n",
        "\t\t\tc1, c2 = encrypt_ColumnRule(Matrix, ele1_x, ele1_y, ele2_x, ele2_y)\n",
        "\t\telse:\n",
        "\t\t\tc1, c2 = encrypt_RectangleRule(\n",
        "\t\t\t\tMatrix, ele1_x, ele1_y, ele2_x, ele2_y)\n",
        "\n",
        "\t\tcipher = c1 + c2\n",
        "\t\tCipherText.append(cipher)\n",
        "\treturn CipherText\n",
        "\n",
        "\n",
        "text_Plain = 'toi ten la nguyen phu hao co ma so sinh vien la hai mot nam hai khong hai hai ba'\n",
        "text_Plain = removeSpaces(toLowerCase(text_Plain))\n",
        "PlainTextList = Diagraph(FillerLetter(text_Plain))\n",
        "if len(PlainTextList[-1]) != 2:\n",
        "\tPlainTextList[-1] = PlainTextList[-1]+'z'\n",
        "\n",
        "key = \"university\"\n",
        "print(\"Key text:\", key)\n",
        "key = toLowerCase(key)\n",
        "Matrix = generateKeyTable(key, list1)\n",
        "\n",
        "print(\"Plain Text:\", text_Plain)\n",
        "CipherList = encryptByPlayfairCipher(Matrix, PlainTextList)\n",
        "\n",
        "CipherText = \"\"\n",
        "for i in CipherList:\n",
        "\tCipherText += i\n",
        "print(\"CipherText:\", CipherText)\n",
        "\n",
        "# This code is Contributed by Boda_Venkata_Nikith\n"
      ],
      "metadata": {
        "colab": {
          "base_uri": "https://localhost:8080/"
        },
        "id": "g1FUl0guPLE9",
        "outputId": "a66aa5cb-7295-4ccb-a86a-2980131cbe74"
      },
      "execution_count": 6,
      "outputs": [
        {
          "output_type": "stream",
          "name": "stdout",
          "text": [
            "Key text: university\n",
            "Plain Text: toitenlanguyenphuhaocomasosinhvienlahaimotnamhaikhonghaihaiba\n",
            "CipherText: altduiotecvruiuprpgzgkoyaktnukevuiotorvllaesoktelkkeboteorudge\n"
          ]
        }
      ]
    },
    {
      "cell_type": "markdown",
      "source": [
        "##Task 5"
      ],
      "metadata": {
        "id": "6q3c-s5tTVwN"
      }
    },
    {
      "cell_type": "code",
      "source": [
        "def vigenere_encrypt(message, key):\n",
        "    encrypted_text = \"\"\n",
        "    key_length = len(key)\n",
        "\n",
        "    for i in range(len(message)):\n",
        "        char = message[i]\n",
        "\n",
        "        if char.isalpha():\n",
        "            key_char = key[i % key_length].lower()\n",
        "            shift = ord(key_char) - ord('a')\n",
        "\n",
        "            if char.isupper():\n",
        "                encrypted_text += chr((ord(char) + shift - ord('A')) % 26 + ord('A'))\n",
        "            else:\n",
        "                encrypted_text += chr((ord(char) + shift - ord('a')) % 26 + ord('a'))\n",
        "        else:\n",
        "            encrypted_text += char\n",
        "\n",
        "    return encrypted_text\n",
        "\n",
        "def vigenere_decrypt(encrypted_text, key):\n",
        "    decrypted_text = \"\"\n",
        "    key_length = len(key)\n",
        "\n",
        "    for i in range(len(encrypted_text)):\n",
        "        char = encrypted_text[i]\n",
        "\n",
        "        if char.isalpha():\n",
        "            key_char = key[i % key_length].lower()\n",
        "            shift = ord(key_char) - ord('a')\n",
        "\n",
        "            if char.isupper():\n",
        "                decrypted_text += chr((ord(char) - shift - ord('A')) % 26 + ord('A'))\n",
        "            else:\n",
        "                decrypted_text += chr((ord(char) - shift - ord('a')) % 26 + ord('a'))\n",
        "        else:\n",
        "            decrypted_text += char\n",
        "\n",
        "    return decrypted_text\n",
        "\n",
        "# Test hàm với ví dụ\n",
        "message = \"HOCHIMINH\"\n",
        "key = \"HAO\"\n",
        "encrypted_message = vigenere_encrypt(message, key)\n",
        "decrypted_message = vigenere_decrypt(encrypted_message, key)\n",
        "\n",
        "print(\"Original Message:\", message)\n",
        "print(\"Encrypted Message:\", encrypted_message)\n",
        "print(\"Decrypted Message:\", decrypted_message)\n",
        "\n"
      ],
      "metadata": {
        "colab": {
          "base_uri": "https://localhost:8080/"
        },
        "id": "bolxUtIoPidX",
        "outputId": "712f9300-ca84-4c9d-9cd7-4079632fe908"
      },
      "execution_count": 7,
      "outputs": [
        {
          "output_type": "stream",
          "name": "stdout",
          "text": [
            "Original Message: HOCHIMINH\n",
            "Encrypted Message: OOQOIAPNV\n",
            "Decrypted Message: HOCHIMINH\n"
          ]
        }
      ]
    },
    {
      "cell_type": "markdown",
      "source": [
        "##Task 7"
      ],
      "metadata": {
        "id": "Kq-L0DFqTYgc"
      }
    },
    {
      "cell_type": "code",
      "source": [
        "def xor_decrypt(ciphertext, key):\n",
        "    # Hàm giải mã XOR\n",
        "    decrypted = bytearray()\n",
        "    for i in range(len(ciphertext)):\n",
        "        decrypted.append(ciphertext[i] ^ key[i % len(key)])\n",
        "    return bytes(decrypted)\n",
        "\n",
        "def read_image(file_path):\n",
        "    # Hàm đọc dữ liệu từ tệp ảnh\n",
        "    with open(file_path, 'rb') as file:\n",
        "        return bytearray(file.read())\n",
        "\n",
        "def write_image(file_path, data):\n",
        "    # Hàm ghi dữ liệu vào tệp ảnh\n",
        "    with open(file_path, 'wb') as file:\n",
        "        file.write(data)\n",
        "\n",
        "# Thay thế 'crypto01.jpg' bằng đường dẫn đến tệp ảnh đã được mã hóa của bạn\n",
        "image_path = r'/content/drive/MyDrive/img.jpg'\n",
        "\n",
        "# Thay thế 'your_key' bằng khóa 6 ký tự được sử dụng cho quá trình mã hóa\n",
        "encryption_key = b'uithcm'\n",
        "\n",
        "# Đọc ảnh đã được mã hóa\n",
        "encrypted_image = read_image(image_path)\n",
        "\n",
        "# Giải mã ảnh\n",
        "decrypted_image = xor_decrypt(encrypted_image, encryption_key)\n",
        "\n",
        "# Lưu ảnh đã giải mã\n",
        "write_image('decrypted_image.jpg', decrypted_image)\n"
      ],
      "metadata": {
        "id": "YPeD6VP-Qais"
      },
      "execution_count": 8,
      "outputs": []
    },
    {
      "cell_type": "code",
      "source": [
        "def atbash_cipher(text):\n",
        "    result = \"\"\n",
        "    for char in text:\n",
        "        if char.isalpha():\n",
        "            if char.islower():\n",
        "                result += chr(219 - ord(char))\n",
        "            else:\n",
        "                result += chr(155 - ord(char))\n",
        "        else:\n",
        "            result += char\n",
        "    return result\n",
        "\n",
        "#ví dụ\n",
        "message = \"toi la nguyen phu hao sinh vien nam 3\"\n",
        "encrypted_message = atbash_cipher(message)\n",
        "\n",
        "print(\"Original Message:\", message)\n",
        "print(\"Encrypted Message:\", encrypted_message)"
      ],
      "metadata": {
        "colab": {
          "base_uri": "https://localhost:8080/"
        },
        "id": "xbtUrT8JSPC6",
        "outputId": "802df7fd-47db-4a58-ac4c-d2c6373ccb87"
      },
      "execution_count": 9,
      "outputs": [
        {
          "output_type": "stream",
          "name": "stdout",
          "text": [
            "Original Message: toi la nguyen phu hao sinh vien nam 3\n",
            "Encrypted Message: glr oz mtfbvm ksf szl hrms ervm mzn 3\n"
          ]
        }
      ]
    }
  ]
}